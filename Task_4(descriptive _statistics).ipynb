{
 "cells": [
  {
   "cell_type": "code",
   "execution_count": 1,
   "id": "494ce805",
   "metadata": {},
   "outputs": [],
   "source": [
    "# importing library\n",
    "import numpy as np\n",
    "import pandas as pd\n",
    "import math\n",
    "import statistics as stat"
   ]
  },
  {
   "cell_type": "markdown",
   "id": "f508a6e8",
   "metadata": {},
   "source": [
    "# Mean"
   ]
  },
  {
   "cell_type": "markdown",
   "id": "63f155b7",
   "metadata": {},
   "source": [
    "mean is basically average of data.\n"
   ]
  },
  {
   "attachments": {
    "image.png": {
     "image/png": "[encoded data removed]"
    }
   },
   "cell_type": "markdown",
   "id": "ac88bfb5",
   "metadata": {},
   "source": [
    "![image.png](attachment:image.png)"
   ]
  },
  {
   "cell_type": "code",
   "execution_count": 2,
   "id": "25f3633d",
   "metadata": {},
   "outputs": [],
   "source": [
    "# using scratch code the formula for mean\n",
    "\n",
    "def mean (x):print(sum(x)/len(x))"
   ]
  },
  {
   "cell_type": "code",
   "execution_count": 3,
   "id": "cbde3fac",
   "metadata": {},
   "outputs": [
    {
     "name": "stdout",
     "output_type": "stream",
     "text": [
      "61.266666666666666\n"
     ]
    }
   ],
   "source": [
    "df=[27,54,63,97,65,79,56,29,52,81,56,43,74,96,47]\n",
    "mean(df)"
   ]
  },
  {
   "cell_type": "code",
   "execution_count": 4,
   "id": "6562f4a9",
   "metadata": {},
   "outputs": [
    {
     "name": "stdout",
     "output_type": "stream",
     "text": [
      "4.932727272727273\n"
     ]
    }
   ],
   "source": [
    "df1=[2.3,4.6,7.89,3.6,7.5,3.9,4.67,6.4,3.3,4.4,5.7]\n",
    "mean(df1)"
   ]
  },
  {
   "cell_type": "code",
   "execution_count": 5,
   "id": "b481aba2",
   "metadata": {},
   "outputs": [
    {
     "name": "stdout",
     "output_type": "stream",
     "text": [
      "61.266666666666666\n",
      "4.932727272727273\n"
     ]
    }
   ],
   "source": [
    "# mean using library\n",
    "\n",
    "print(np.mean(df))\n",
    "print(np.mean(df1))"
   ]
  },
  {
   "cell_type": "markdown",
   "id": "584989dc",
   "metadata": {},
   "source": [
    "# Median"
   ]
  },
  {
   "cell_type": "markdown",
   "id": "b50fc81c",
   "metadata": {},
   "source": [
    "Median is basically middle most observation of the data."
   ]
  },
  {
   "cell_type": "code",
   "execution_count": 47,
   "id": "5317a4af",
   "metadata": {},
   "outputs": [],
   "source": [
    "# median using scratch code\n",
    "\n",
    "def median(sample):\n",
    "    n = len(sample)\n",
    "# Sample with odd number\n",
    "    if n % 2:\n",
    "        return sorted(sample)[n//2]\n",
    "# Sample with even number\n",
    "    else:return (sorted(sample)[n//2 - 1])"
   ]
  },
  {
   "cell_type": "code",
   "execution_count": 48,
   "id": "bb327e53",
   "metadata": {},
   "outputs": [
    {
     "name": "stdout",
     "output_type": "stream",
     "text": [
      "56\n",
      "4.6\n"
     ]
    }
   ],
   "source": [
    "print(median(df))\n",
    "print(median(df1))"
   ]
  },
  {
   "cell_type": "code",
   "execution_count": 49,
   "id": "e84ebbd4",
   "metadata": {},
   "outputs": [
    {
     "name": "stdout",
     "output_type": "stream",
     "text": [
      "56\n",
      "4.6\n"
     ]
    }
   ],
   "source": [
    "# median using library\n",
    "\n",
    "print(stat.median(df))\n",
    "print(stat.median(df1))"
   ]
  },
  {
   "cell_type": "markdown",
   "id": "17984a43",
   "metadata": {},
   "source": [
    "# Mode"
   ]
  },
  {
   "cell_type": "markdown",
   "id": "e82a3137",
   "metadata": {},
   "source": [
    "Mode is the observation of data which is repeated most time"
   ]
  },
  {
   "cell_type": "code",
   "execution_count": 50,
   "id": "593e233a",
   "metadata": {},
   "outputs": [],
   "source": [
    "def mode(data):\n",
    "    mode= max(data)\n",
    "    return mode"
   ]
  },
  {
   "cell_type": "code",
   "execution_count": 51,
   "id": "6d1a11ee",
   "metadata": {},
   "outputs": [
    {
     "data": {
      "text/plain": [
       "97"
      ]
     },
     "execution_count": 51,
     "metadata": {},
     "output_type": "execute_result"
    }
   ],
   "source": [
    "mode(df)"
   ]
  },
  {
   "cell_type": "code",
   "execution_count": 52,
   "id": "23348ed3",
   "metadata": {},
   "outputs": [
    {
     "data": {
      "text/plain": [
       "56"
      ]
     },
     "execution_count": 52,
     "metadata": {},
     "output_type": "execute_result"
    }
   ],
   "source": [
    "# mode with library\n",
    "stat.mode(df)"
   ]
  },
  {
   "cell_type": "markdown",
   "id": "14a3cad4",
   "metadata": {},
   "source": [
    "# Variance"
   ]
  },
  {
   "cell_type": "markdown",
   "id": "2f7fdfcb",
   "metadata": {},
   "source": [
    "variance shows how our data is spread from mean"
   ]
  },
  {
   "cell_type": "code",
   "execution_count": 12,
   "id": "0dc20a76",
   "metadata": {},
   "outputs": [],
   "source": [
    "# using scratch finding variance\n",
    "def var(data):\n",
    "    n = len(data)\n",
    "    mean = sum(data) / n\n",
    "    var=sum((x - mean) ** 2 for x in data) / (n)\n",
    "    return var"
   ]
  },
  {
   "cell_type": "code",
   "execution_count": 13,
   "id": "a811e38d",
   "metadata": {},
   "outputs": [
    {
     "name": "stdout",
     "output_type": "stream",
     "text": [
      "420.86222222222216\n",
      "2.8164743801652894\n"
     ]
    }
   ],
   "source": [
    "print(var(df))\n",
    "print(var(df1))"
   ]
  },
  {
   "cell_type": "code",
   "execution_count": 14,
   "id": "54ca0be3",
   "metadata": {},
   "outputs": [
    {
     "name": "stdout",
     "output_type": "stream",
     "text": [
      "420.86222222222216\n",
      "2.8164743801652894\n"
     ]
    }
   ],
   "source": [
    "# using library\n",
    "print(np.var(df))\n",
    "print(np.var(df1))"
   ]
  },
  {
   "cell_type": "markdown",
   "id": "8bc47a0a",
   "metadata": {},
   "source": [
    "# standard deviaton "
   ]
  },
  {
   "cell_type": "markdown",
   "id": "99e2b625",
   "metadata": {},
   "source": [
    "standard deviaton is square root of variance."
   ]
  },
  {
   "cell_type": "code",
   "execution_count": 15,
   "id": "83e1d367",
   "metadata": {},
   "outputs": [],
   "source": [
    "def std(x):\n",
    "    std=np.sqrt(var(x))\n",
    "    return std"
   ]
  },
  {
   "cell_type": "code",
   "execution_count": 16,
   "id": "d131b07e",
   "metadata": {},
   "outputs": [
    {
     "name": "stdout",
     "output_type": "stream",
     "text": [
      "20.514926814937024\n",
      "1.6782354960390062\n"
     ]
    }
   ],
   "source": [
    "print(std(df))\n",
    "print(std(df1))"
   ]
  },
  {
   "cell_type": "code",
   "execution_count": 17,
   "id": "256effe1",
   "metadata": {},
   "outputs": [
    {
     "name": "stdout",
     "output_type": "stream",
     "text": [
      "20.514926814937024\n",
      "1.6782354960390062\n"
     ]
    }
   ],
   "source": [
    "# using library\n",
    "print(np.std(df))\n",
    "print(np.std(df1))"
   ]
  },
  {
   "cell_type": "markdown",
   "id": "fcc189cf",
   "metadata": {},
   "source": [
    "# covariance"
   ]
  },
  {
   "cell_type": "markdown",
   "id": "a76688dc",
   "metadata": {},
   "source": [
    "variance between two variable or diff betn two dataset."
   ]
  },
  {
   "cell_type": "code",
   "execution_count": 18,
   "id": "3f5dd27b",
   "metadata": {},
   "outputs": [],
   "source": [
    "def cov(x, y):\n",
    "    mean_x = sum(x)/float(len(x))          # mean of x\n",
    "    mean_y = sum(y)/float(len(y))          # mean of y\n",
    "    var_x = [i - mean_x for i in x]        # var of x\n",
    "    var_y = [i - mean_y for i in y]        # var of y\n",
    "    numerator = sum([var_x[i]*var_y[i] for i in range(len(var_x))])\n",
    "    denominator = len(x)-1\n",
    "    cov = numerator/denominator\n",
    "    return cov"
   ]
  },
  {
   "cell_type": "code",
   "execution_count": 19,
   "id": "b63ab69c",
   "metadata": {},
   "outputs": [
    {
     "data": {
      "text/plain": [
       "36.05833333333333"
      ]
     },
     "execution_count": 19,
     "metadata": {},
     "output_type": "execute_result"
    }
   ],
   "source": [
    "x=[23,45,76,29,43,54,28,84,78,66,97,5,76,34,45,43]\n",
    "y=[65,69,23,17,73,85,90,46,74,97,37,25,78,54,73,67]\n",
    "\n",
    "cov(x,y)"
   ]
  },
  {
   "cell_type": "code",
   "execution_count": 20,
   "id": "295528fd",
   "metadata": {},
   "outputs": [
    {
     "data": {
      "text/plain": [
       "36.05833333333333"
      ]
     },
     "execution_count": 20,
     "metadata": {},
     "output_type": "execute_result"
    }
   ],
   "source": [
    "np.cov(x,y)[1][0]       # cov using library"
   ]
  },
  {
   "cell_type": "markdown",
   "id": "edfa9d00",
   "metadata": {},
   "source": [
    "# Correlation"
   ]
  },
  {
   "cell_type": "markdown",
   "id": "d69b3acd",
   "metadata": {},
   "source": [
    "In this we see how our data are correlated to each other.\n",
    "\n",
    "possitive means both are moveing in same direction.\n",
    "\n",
    "negative means both are moveing in opposite direction."
   ]
  },
  {
   "cell_type": "code",
   "execution_count": 21,
   "id": "4a6638c7",
   "metadata": {},
   "outputs": [],
   "source": [
    "def corr(x, y):\n",
    "    mean_x = sum(x)/float(len(x))    # Finding the mean of the series x and y\n",
    "    mean_y = sum(y)/float(len(y))\n",
    "    sub_x = [i-mean_x for i in x]     # Subtracting mean from the individual elements\n",
    "    sub_y = [i-mean_y for i in y]     \n",
    "    numerator = sum([sub_x[i]*sub_y[i] for i in range(len(sub_x))])  # covariance for x and y\n",
    "    std_deviation_x = sum([sub_x[i]**2.0 for i in range(len(sub_x))])  # Standard Deviation of x and y\n",
    "    std_deviation_y = sum([sub_y[i]**2.0 for i in range(len(sub_y))])    # squaring by 0.5 to find the square root\n",
    "    denominator = (std_deviation_x*std_deviation_y)**0.5 # short but equivalent to (std_deviation_x**0.5) * (std_deviation_y**0.5)\n",
    "    corr = numerator/denominator\n",
    "    return corr"
   ]
  },
  {
   "cell_type": "code",
   "execution_count": 22,
   "id": "5db22374",
   "metadata": {},
   "outputs": [
    {
     "data": {
      "text/plain": [
       "0.05723323276870038"
      ]
     },
     "execution_count": 22,
     "metadata": {},
     "output_type": "execute_result"
    }
   ],
   "source": [
    "corr(x,y)"
   ]
  },
  {
   "cell_type": "code",
   "execution_count": 23,
   "id": "945d1adf",
   "metadata": {},
   "outputs": [
    {
     "data": {
      "text/plain": [
       "0.05723323276870037"
      ]
     },
     "execution_count": 23,
     "metadata": {},
     "output_type": "execute_result"
    }
   ],
   "source": [
    "# using library\n",
    "np.corrcoef(x,y)[1][0]"
   ]
  },
  {
   "cell_type": "markdown",
   "id": "5e31ae28",
   "metadata": {},
   "source": [
    "# Quantile"
   ]
  },
  {
   "cell_type": "markdown",
   "id": "8b2b55af",
   "metadata": {},
   "source": [
    "In quantile these repersent data in 4 parts.\n",
    "\n",
    "25% of data represented by 1st quantile (Q1).\n",
    "\n",
    "50% of data represented by 2nd quantile (Q2).\n",
    "\n",
    "75% of data represented by 3rd quantile (Q3)."
   ]
  },
  {
   "cell_type": "code",
   "execution_count": 24,
   "id": "ceddc59c",
   "metadata": {},
   "outputs": [],
   "source": [
    "# user define fn for quantile\n",
    "def Q1(x):\n",
    "    Q1=sum(x)/4\n",
    "    print(Q1)"
   ]
  },
  {
   "cell_type": "code",
   "execution_count": 25,
   "id": "88053f10",
   "metadata": {},
   "outputs": [
    {
     "name": "stdout",
     "output_type": "stream",
     "text": [
      "229.75\n"
     ]
    }
   ],
   "source": [
    "Q1(df)"
   ]
  },
  {
   "cell_type": "code",
   "execution_count": 26,
   "id": "6e53ea86",
   "metadata": {},
   "outputs": [
    {
     "data": {
      "text/plain": [
       "49.5"
      ]
     },
     "execution_count": 26,
     "metadata": {},
     "output_type": "execute_result"
    }
   ],
   "source": [
    "np.quantile(df,0.25)"
   ]
  },
  {
   "cell_type": "code",
   "execution_count": 27,
   "id": "61b7f852",
   "metadata": {},
   "outputs": [
    {
     "data": {
      "text/plain": [
       "56.0"
      ]
     },
     "execution_count": 27,
     "metadata": {},
     "output_type": "execute_result"
    }
   ],
   "source": [
    "np.quantile(df,0.50)"
   ]
  },
  {
   "cell_type": "markdown",
   "id": "0ca257ec",
   "metadata": {},
   "source": [
    "# Min , Max , Range , count "
   ]
  },
  {
   "cell_type": "markdown",
   "id": "a2d7fc47",
   "metadata": {},
   "source": [
    "min= minimum value of the data set.\n",
    "\n",
    "max= maximum value of the data set.\n",
    "\n",
    "range= range the values in data set.\n",
    "\n",
    "count= length of the data ."
   ]
  },
  {
   "cell_type": "code",
   "execution_count": 28,
   "id": "17934da7",
   "metadata": {},
   "outputs": [],
   "source": [
    "#using user efine function\n",
    "def min_(data):\n",
    "    sort=sorted(data)\n",
    "    min_=sort[0] \n",
    "    return min_"
   ]
  },
  {
   "cell_type": "code",
   "execution_count": 29,
   "id": "a16ca90d",
   "metadata": {},
   "outputs": [
    {
     "data": {
      "text/plain": [
       "27"
      ]
     },
     "execution_count": 29,
     "metadata": {},
     "output_type": "execute_result"
    }
   ],
   "source": [
    "min_(df)"
   ]
  },
  {
   "cell_type": "code",
   "execution_count": 30,
   "id": "bf7bd907",
   "metadata": {},
   "outputs": [
    {
     "data": {
      "text/plain": [
       "27"
      ]
     },
     "execution_count": 30,
     "metadata": {},
     "output_type": "execute_result"
    }
   ],
   "source": [
    "# using function\n",
    "min(df)"
   ]
  },
  {
   "cell_type": "code",
   "execution_count": 31,
   "id": "cea9b1c5",
   "metadata": {},
   "outputs": [],
   "source": [
    "# using user define fn\n",
    "def max_(data):\n",
    "    sort=sorted(data)\n",
    "    max_=sort[-1] \n",
    "    return max_"
   ]
  },
  {
   "cell_type": "code",
   "execution_count": 32,
   "id": "a45ffa49",
   "metadata": {},
   "outputs": [
    {
     "data": {
      "text/plain": [
       "97"
      ]
     },
     "execution_count": 32,
     "metadata": {},
     "output_type": "execute_result"
    }
   ],
   "source": [
    "max_(df)"
   ]
  },
  {
   "cell_type": "code",
   "execution_count": 33,
   "id": "444d97c3",
   "metadata": {},
   "outputs": [
    {
     "data": {
      "text/plain": [
       "97"
      ]
     },
     "execution_count": 33,
     "metadata": {},
     "output_type": "execute_result"
    }
   ],
   "source": [
    "# using fn\n",
    "max(df)"
   ]
  },
  {
   "cell_type": "markdown",
   "id": "963065a9",
   "metadata": {},
   "source": [
    "### Range"
   ]
  },
  {
   "cell_type": "code",
   "execution_count": 34,
   "id": "64d5ff51",
   "metadata": {},
   "outputs": [],
   "source": [
    "# user define function for range \n",
    "def range_(data):\n",
    "    range_=max(x)-min(x)\n",
    "    print(range_)"
   ]
  },
  {
   "cell_type": "code",
   "execution_count": 35,
   "id": "18f45bd1",
   "metadata": {},
   "outputs": [
    {
     "name": "stdout",
     "output_type": "stream",
     "text": [
      "92\n"
     ]
    }
   ],
   "source": [
    "range_(df)"
   ]
  },
  {
   "cell_type": "markdown",
   "id": "cd1787ec",
   "metadata": {},
   "source": [
    "### Length"
   ]
  },
  {
   "cell_type": "code",
   "execution_count": 36,
   "id": "99e91484",
   "metadata": {},
   "outputs": [],
   "source": [
    "# user define function for count\n",
    "def count(data):\n",
    "    count=len(data)\n",
    "    print(count)"
   ]
  },
  {
   "cell_type": "code",
   "execution_count": 37,
   "id": "385fa095",
   "metadata": {},
   "outputs": [
    {
     "name": "stdout",
     "output_type": "stream",
     "text": [
      "15\n"
     ]
    }
   ],
   "source": [
    "count(df)"
   ]
  },
  {
   "cell_type": "code",
   "execution_count": 38,
   "id": "766fbce7",
   "metadata": {},
   "outputs": [
    {
     "data": {
      "text/plain": [
       "15"
      ]
     },
     "execution_count": 38,
     "metadata": {},
     "output_type": "execute_result"
    }
   ],
   "source": [
    "#using fn\n",
    "len(df)"
   ]
  }
 ],
 "metadata": {
  "kernelspec": {
   "display_name": "Python 3",
   "language": "python",
   "name": "python3"
  },
  "language_info": {
   "codemirror_mode": {
    "name": "ipython",
    "version": 3
   },
   "file_extension": ".py",
   "mimetype": "text/x-python",
   "name": "python",
   "nbconvert_exporter": "python",
   "pygments_lexer": "ipython3",
   "version": "3.8.8"
  }
 },
 "nbformat": 4,
 "nbformat_minor": 5
}
